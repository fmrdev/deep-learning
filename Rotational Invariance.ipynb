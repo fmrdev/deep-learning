{
 "cells": [
  {
   "cell_type": "markdown",
   "metadata": {},
   "source": [
    "# Rotational Invariance in Convolutional Neural Networks\n",
    "Rotational Invariance of CNNs will be calculated and visualized here.  "
   ]
  },
  {
   "cell_type": "code",
   "execution_count": 2,
   "metadata": {
    "collapsed": false
   },
   "outputs": [
    {
     "name": "stderr",
     "output_type": "stream",
     "text": [
      "/usr/local/lib/python2.7/dist-packages/matplotlib/font_manager.py:273: UserWarning: Matplotlib is building the font cache using fc-list. This may take a moment.\n",
      "  warnings.warn('Matplotlib is building the font cache using fc-list. This may take a moment.')\n"
     ]
    }
   ],
   "source": [
    "import numpy as np\n",
    "%matplotlib inline\n",
    "from matplotlib import pyplot as plt"
   ]
  },
  {
   "cell_type": "code",
   "execution_count": 3,
   "metadata": {
    "collapsed": false
   },
   "outputs": [
    {
     "name": "stderr",
     "output_type": "stream",
     "text": [
      "Using gpu device 0: GeForce GTX 770 (CNMeM is enabled)\n",
      "/usr/local/lib/python2.7/dist-packages/theano/tensor/signal/downsample.py:5: UserWarning: downsample module has been moved to the pool module.\n",
      "  warnings.warn(\"downsample module has been moved to the pool module.\")\n"
     ]
    },
    {
     "name": "stdout",
     "output_type": "stream",
     "text": [
      "Using Theano backend.\n",
      "Couldn't import dot_parser, loading of dot files will not be possible.\n"
     ]
    },
    {
     "data": {
      "text/plain": [
       "<module 'utils' from 'utils.pyc'>"
      ]
     },
     "execution_count": 3,
     "metadata": {},
     "output_type": "execute_result"
    }
   ],
   "source": [
    "import utils\n",
    "reload(utils)"
   ]
  },
  {
   "cell_type": "code",
   "execution_count": 4,
   "metadata": {
    "collapsed": true
   },
   "outputs": [],
   "source": [
    "(X_train, Y_train), (X_test, Y_test) = utils.load_data()"
   ]
  },
  {
   "cell_type": "code",
   "execution_count": 5,
   "metadata": {
    "collapsed": false
   },
   "outputs": [
    {
     "name": "stdout",
     "output_type": "stream",
     "text": [
      "(50000, 3, 32, 32)\n",
      "(10000, 3, 32, 32)\n",
      "(50000, 10)\n",
      "(10000, 10)\n"
     ]
    }
   ],
   "source": [
    "print X_train.shape\n",
    "print X_test.shape\n",
    "print Y_train.shape\n",
    "print Y_test.shape"
   ]
  },
  {
   "cell_type": "markdown",
   "metadata": {},
   "source": [
    "## The Model"
   ]
  },
  {
   "cell_type": "code",
   "execution_count": 6,
   "metadata": {
    "collapsed": false
   },
   "outputs": [],
   "source": [
    "model_name = 'model'\n",
    "model = utils.load_model(model_name)"
   ]
  },
  {
   "cell_type": "markdown",
   "metadata": {},
   "source": [
    "### Test 1"
   ]
  },
  {
   "cell_type": "code",
   "execution_count": 7,
   "metadata": {
    "collapsed": false
   },
   "outputs": [
    {
     "name": "stdout",
     "output_type": "stream",
     "text": [
      "10000/10000 [==============================] - 0s     \n",
      "Loss: 1.52921010323\n",
      "Accuracy: 0.4251\n"
     ]
    }
   ],
   "source": [
    "loss, accuracy = model.evaluate(X_test, Y_test, show_accuracy=True)\n",
    "print \"Loss:\", loss\n",
    "print \"Accuracy:\", accuracy"
   ]
  },
  {
   "cell_type": "markdown",
   "metadata": {},
   "source": [
    "## Augment the data  \n",
    "Add rotated versions of all images to the dataset and test the accuracy of the model on these versions.  "
   ]
  },
  {
   "cell_type": "markdown",
   "metadata": {},
   "source": [
    "### Test 2"
   ]
  },
  {
   "cell_type": "code",
   "execution_count": 8,
   "metadata": {
    "collapsed": false
   },
   "outputs": [
    {
     "name": "stdout",
     "output_type": "stream",
     "text": [
      "80000/80000 [==============================] - 2s     \n",
      "Loss on augmented Test data: 2.1593883791\n",
      "Accuracy on augmented Test data: 0.2629375\n"
     ]
    }
   ],
   "source": [
    "rotations = range(45, 360, 45)\n",
    "\n",
    "X_test_aug = utils.augment_data(X_test, rotations)  # Images are processed in parallel using all CPUs\n",
    "\n",
    "X_test_aug_flat = [x for X_test_group in X_test_aug for x in X_test_group]\n",
    "\n",
    "Y_test_aug_flat = []\n",
    "for y in Y_test:\n",
    "    Y_test_aug_flat += [y for _ in range(len(rotations)+1)]\n",
    "\n",
    "loss, accuracy = model.evaluate(np.array(X_test_aug_flat), np.array(Y_test_aug_flat), show_accuracy=True)\n",
    "print \"Loss on augmented Test data:\", loss\n",
    "print \"Accuracy on augmented Test data:\", accuracy"
   ]
  },
  {
   "cell_type": "markdown",
   "metadata": {},
   "source": [
    "### Test 3"
   ]
  },
  {
   "cell_type": "code",
   "execution_count": 9,
   "metadata": {
    "collapsed": false
   },
   "outputs": [
    {
     "name": "stdout",
     "output_type": "stream",
     "text": [
      "360000/360000 [==============================] - 11s    \n",
      "Loss on augmented Test data: 2.18079492188\n",
      "Accuracy on augmented Test data: 0.259913888889\n"
     ]
    }
   ],
   "source": [
    "rotations = range(10, 360, 10)\n",
    "\n",
    "X_test_aug = utils.augment_data(X_test, rotations)  # Images are processed in parallel using all CPUs\n",
    "\n",
    "X_test_aug_flat = [x for X_test_group in X_test_aug for x in X_test_group]\n",
    "\n",
    "Y_test_aug_flat = []\n",
    "for y in Y_test:\n",
    "    Y_test_aug_flat += [y for _ in range(len(rotations)+1)]\n",
    "\n",
    "loss, accuracy = model.evaluate(np.array(X_test_aug_flat), np.array(Y_test_aug_flat), show_accuracy=True)\n",
    "print \"Loss on augmented Test data:\", loss\n",
    "print \"Accuracy on augmented Test data:\", accuracy"
   ]
  },
  {
   "cell_type": "code",
   "execution_count": null,
   "metadata": {
    "collapsed": true
   },
   "outputs": [],
   "source": [
    "group_accuracy = []  # list of lists: [[index, acc of original, group acc]...]\n",
    "\n",
    "for i, image_group in enumerate(X_test_aug):\n",
    "    prediction = model.predict_classes(image_group, verbose=0)\n",
    "    truth = Y_test[i].argmax()\n",
    "    group_acc = (prediction == truth).mean()\n",
    "    org_acc = (prediction[0] == truth).mean()\n",
    "    group_accuracy += [(i, org_acc, group_acc)]\n",
    "\n",
    "group_accuracy = np.array(group_accuracy)"
   ]
  },
  {
   "cell_type": "code",
   "execution_count": null,
   "metadata": {
    "collapsed": false
   },
   "outputs": [],
   "source": [
    "_, org_acc, grp_acc = group_accuracy.mean(axis=0)\n",
    "print \"Original accuracy on Test set:\\t%f\" % org_acc\n",
    "print \"Group accuracy on Test set:\\t%f\" % grp_acc\n"
   ]
  },
  {
   "cell_type": "markdown",
   "metadata": {},
   "source": [
    "## Visualize image groups"
   ]
  },
  {
   "cell_type": "code",
   "execution_count": null,
   "metadata": {
    "collapsed": false
   },
   "outputs": [],
   "source": [
    "group_accuracy_low = filter(lambda x: x[1]==1.0 and x[2]>0 and x[2]<=0.25, group_accuracy)\n",
    "group_accuracy_high = filter(lambda x: x[1]==1.0 and x[2]==1.0, group_accuracy)"
   ]
  },
  {
   "cell_type": "code",
   "execution_count": null,
   "metadata": {
    "collapsed": false
   },
   "outputs": [],
   "source": [
    "indices_min_acc = [int(x[0]) for x in group_accuracy_low[:10]]\n",
    "indices_max_acc = [int(x[0]) for x in group_accuracy_high[:10]]\n",
    "print \"Groups with min accuracy (>0):\\t\", indices_min_acc\n",
    "print \"Groups with max accuracy:\\t\", indices_max_acc"
   ]
  },
  {
   "cell_type": "code",
   "execution_count": null,
   "metadata": {
    "collapsed": false
   },
   "outputs": [],
   "source": [
    "# Compare covariant matrices of augmented images with original\n",
    "for index in indices_min_acc:\n",
    "    image_group = X_test_aug[index]\n",
    "    diffs = []\n",
    "    for i in range(1, len(image_group)):\n",
    "        diffs += [np.linalg.norm(utils.augment_image(image_group[0])[1] - \n",
    "                                        utils.augment_image(image_group[i])[1])]\n",
    "    diffs = np.array(diffs)\n",
    "    print diffs.mean()"
   ]
  },
  {
   "cell_type": "code",
   "execution_count": null,
   "metadata": {
    "collapsed": false
   },
   "outputs": [],
   "source": [
    "# Compare covariant matrices of augmented images with original\n",
    "for index in indices_max_acc:\n",
    "    image_group = X_test_aug[index]\n",
    "    diffs = []\n",
    "    for i in range(1, len(image_group)):\n",
    "        diffs += [np.linalg.norm(utils.augment_image(image_group[0])[1] - \n",
    "                                        utils.augment_image(image_group[i])[1])]\n",
    "    diffs = np.array(diffs)\n",
    "    print diffs.mean()"
   ]
  },
  {
   "cell_type": "code",
   "execution_count": null,
   "metadata": {
    "collapsed": false,
    "scrolled": true
   },
   "outputs": [],
   "source": [
    "print \"Groups with min accuracy (>0)\"\n",
    "print \"First image is the original, second is the covariance matrix, and third is the real part of the FFT\"\n",
    "for i in indices_min_acc:\n",
    "    print \"Index: %d\" % i\n",
    "    utils.visualize_augmented_images(utils.augment_image(X_test_aug[i][0]))"
   ]
  },
  {
   "cell_type": "code",
   "execution_count": null,
   "metadata": {
    "collapsed": false,
    "scrolled": true
   },
   "outputs": [],
   "source": [
    "print \"Group with max accuracy\"\n",
    "print \"First image is the original, second is the covariance matrix, and third is the real part of the FFT\"\n",
    "for i in indices_max_acc:\n",
    "    print \"Index: %d\" % i\n",
    "    utils.visualize_augmented_images(utils.augment_image(X_test_aug[i][0]))"
   ]
  },
  {
   "cell_type": "markdown",
   "metadata": {
    "collapsed": true
   },
   "source": [
    "## Compare the feature maps\n",
    "Compare the feature maps of the original image with its augmented versions.  "
   ]
  },
  {
   "cell_type": "markdown",
   "metadata": {},
   "source": [
    "### Comparison for image group with low accuracy (>0)"
   ]
  },
  {
   "cell_type": "code",
   "execution_count": null,
   "metadata": {
    "collapsed": false,
    "scrolled": true
   },
   "outputs": [],
   "source": [
    "def extract_mean_diffs(all_diffs):\n",
    "    mean_diffs_low = []\n",
    "    for i, layer_diffs in all_diffs:\n",
    "        diff_means = []\n",
    "        for layer_diff in layer_diffs:\n",
    "            layer_num, diffs = layer_diff\n",
    "            diff_mean = []\n",
    "            for aug_image_num, diff in diffs:\n",
    "                diff_mean += [diff.mean()]\n",
    "            diff_mean = np.array(diff_mean)\n",
    "            diff_means += [diff_mean.mean()]\n",
    "        mean_diffs_low += [diff_means]\n",
    "    return np.array(mean_diffs_low)"
   ]
  },
  {
   "cell_type": "code",
   "execution_count": null,
   "metadata": {
    "collapsed": false,
    "scrolled": true
   },
   "outputs": [],
   "source": [
    "reload(utils)"
   ]
  },
  {
   "cell_type": "code",
   "execution_count": null,
   "metadata": {
    "collapsed": false
   },
   "outputs": [],
   "source": [
    "image_group.shape"
   ]
  },
  {
   "cell_type": "code",
   "execution_count": null,
   "metadata": {
    "collapsed": false
   },
   "outputs": [],
   "source": [
    "image_group = X_test_aug[1]\n",
    "utils.visualize_image_group(image_group)"
   ]
  },
  {
   "cell_type": "code",
   "execution_count": null,
   "metadata": {
    "collapsed": false
   },
   "outputs": [],
   "source": [
    "all_diffs_low = []  #  List of tuples: [(index, [(layer_num, (aug image #, [diffs]))])]\n",
    "for i in indices_min_acc[:2]:\n",
    "    image_group = X_test_aug[i]\n",
    "    image_diffs = []\n",
    "    for layer_num in range(1,9):\n",
    "        image_diffs += [(layer_num, utils.diff_at_layer(image_group, layer_num, model, verbose=False))]\n",
    "    all_diffs_low += [(i, image_diffs)]"
   ]
  },
  {
   "cell_type": "code",
   "execution_count": null,
   "metadata": {
    "collapsed": false
   },
   "outputs": [],
   "source": [
    "mean_diffs_low = extract_mean_diffs(all_diffs_low)\n",
    "print \"Mean diffs across layers (1 to 8):\", mean_diffs_low.mean(axis=0)"
   ]
  },
  {
   "cell_type": "markdown",
   "metadata": {},
   "source": [
    "### Comparison for image group with high accuracy"
   ]
  },
  {
   "cell_type": "code",
   "execution_count": null,
   "metadata": {
    "collapsed": false
   },
   "outputs": [],
   "source": [
    "image_group = X_test_aug[indices_max_acc[8]]\n",
    "utils.visualize_image_group(image_group)"
   ]
  },
  {
   "cell_type": "code",
   "execution_count": null,
   "metadata": {
    "collapsed": false
   },
   "outputs": [],
   "source": [
    "all_diffs_high = []  #  List of tuples: [(index, [(layer_num, (aug image #, [diffs]))])]\n",
    "for i in indices_max_acc[:2]:\n",
    "    image_group = X_test_aug[i]\n",
    "    image_diffs = []\n",
    "    for layer_num in range(1,9):\n",
    "        image_diffs += [(layer_num, utils.diff_at_layer(image_group, layer_num, model, verbose=False))]\n",
    "    all_diffs_high += [(i, image_diffs)]"
   ]
  },
  {
   "cell_type": "code",
   "execution_count": null,
   "metadata": {
    "collapsed": false
   },
   "outputs": [],
   "source": [
    "mean_diffs_high = extract_mean_diffs(all_diffs_high)\n",
    "print \"Mean diffs across layers (1 to 8):\", mean_diffs_high.mean(axis=0)"
   ]
  },
  {
   "cell_type": "code",
   "execution_count": null,
   "metadata": {
    "collapsed": false
   },
   "outputs": [],
   "source": [
    "all_diffs_high = []  #  List of tuples: (layer_num, image #, diffs)\n",
    "for layer_num in range(1,9):\n",
    "    all_diffs_high += [(layer_num, utils.diff_at_layer(image_group, layer_num, model))]"
   ]
  },
  {
   "cell_type": "code",
   "execution_count": null,
   "metadata": {
    "collapsed": false
   },
   "outputs": [],
   "source": [
    "all_diffs_high"
   ]
  },
  {
   "cell_type": "code",
   "execution_count": null,
   "metadata": {
    "collapsed": true
   },
   "outputs": [],
   "source": []
  }
 ],
 "metadata": {
  "kernelspec": {
   "display_name": "Python 2",
   "language": "python",
   "name": "python2"
  },
  "language_info": {
   "codemirror_mode": {
    "name": "ipython",
    "version": 2
   },
   "file_extension": ".py",
   "mimetype": "text/x-python",
   "name": "python",
   "nbconvert_exporter": "python",
   "pygments_lexer": "ipython2",
   "version": "2.7.6"
  }
 },
 "nbformat": 4,
 "nbformat_minor": 0
}
