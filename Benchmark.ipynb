{
 "cells": [
  {
   "cell_type": "markdown",
   "metadata": {},
   "source": [
    "# Benchmark Code for Convolutional Neural Networks  \n",
    "Accuracy and running time of Convolutional Neural Networks with Max-Pooling layers will be benchmarked here.  "
   ]
  },
  {
   "cell_type": "markdown",
   "metadata": {},
   "source": [
    "## The Data  \n",
    "CIFAR-10 dataset is used and is downloaded using the Keras library.  "
   ]
  },
  {
   "cell_type": "code",
   "execution_count": 4,
   "metadata": {
    "collapsed": false
   },
   "outputs": [
    {
     "data": {
      "text/plain": [
       "<module 'utils' from 'utils.pyc'>"
      ]
     },
     "execution_count": 4,
     "metadata": {},
     "output_type": "execute_result"
    }
   ],
   "source": [
    "import utils\n",
    "reload(utils)"
   ]
  },
  {
   "cell_type": "code",
   "execution_count": 2,
   "metadata": {
    "collapsed": false
   },
   "outputs": [],
   "source": [
    "(X_train, Y_train), (X_test, Y_test) = utils.load_data()"
   ]
  },
  {
   "cell_type": "code",
   "execution_count": 3,
   "metadata": {
    "collapsed": false
   },
   "outputs": [
    {
     "name": "stdout",
     "output_type": "stream",
     "text": [
      "(50000, 3, 32, 32)\n",
      "(10000, 3, 32, 32)\n",
      "(50000, 10)\n",
      "(10000, 10)\n"
     ]
    }
   ],
   "source": [
    "print X_train.shape\n",
    "print X_test.shape\n",
    "print Y_train.shape\n",
    "print Y_test.shape"
   ]
  },
  {
   "cell_type": "markdown",
   "metadata": {},
   "source": [
    "## The Model  \n",
    "We use a 'typical' CNN with Max-Pooling layers to predict classes in CIFAR-10 dataset.  "
   ]
  },
  {
   "cell_type": "code",
   "execution_count": 5,
   "metadata": {
    "collapsed": false
   },
   "outputs": [],
   "source": [
    "from keras.models import Sequential\n",
    "from keras.layers.core import Dense, Flatten, Dropout\n",
    "from keras.layers.convolutional import Convolution2D, MaxPooling2D\n",
    "from keras.optimizers import SGD"
   ]
  },
  {
   "cell_type": "markdown",
   "metadata": {},
   "source": [
    "Optionally, install [Hualos](https://github.com/fchollet/hualos) and use it to visualize the loss function live.  "
   ]
  },
  {
   "cell_type": "code",
   "execution_count": 6,
   "metadata": {
    "collapsed": true
   },
   "outputs": [],
   "source": [
    "from keras import callbacks\n",
    "remote = callbacks.RemoteMonitor(root='http://localhost:9000')"
   ]
  },
  {
   "cell_type": "markdown",
   "metadata": {},
   "source": [
    "### Define the model"
   ]
  },
  {
   "cell_type": "code",
   "execution_count": 23,
   "metadata": {
    "collapsed": false
   },
   "outputs": [],
   "source": [
    "pool_size = (3, 3)\n",
    "\n",
    "model = Sequential()\n",
    "model.add(Convolution2D(32, 3, 3, activation='relu', input_shape=(3,32,32)))  # Layer 1\n",
    "model.add(Convolution2D(32, 3, 3, activation='relu'))  # Layer 2\n",
    "model.add(MaxPooling2D(pool_size=pool_size))  # Layer 3\n",
    "model.add(Dropout(0.25))  # Layer 4\n",
    "\n",
    "model.add(Convolution2D(64, 3, 3, activation='relu'))  # Layer 5\n",
    "model.add(Convolution2D(64, 3, 3, activation='relu'))  # Layer 6\n",
    "model.add(MaxPooling2D(pool_size=pool_size))  # Layer 7\n",
    "model.add(Dropout(0.25))  # Layer 8\n",
    "\n",
    "model.add(Flatten())  # Layer 9\n",
    "\n",
    "model.add(Dense(512, activation='relu'))  # Layer 10\n",
    "model.add(Dropout(0.5))  # Layer 11\n",
    "model.add(Dense(10, activation='softmax'))\n",
    "\n",
    "sgd = SGD(lr=0.01, decay=1e-6, momentum=0.9, nesterov=True)\n",
    "model.compile(loss='categorical_crossentropy', optimizer=sgd)"
   ]
  },
  {
   "cell_type": "markdown",
   "metadata": {},
   "source": [
    "Or load saved model"
   ]
  },
  {
   "cell_type": "code",
   "execution_count": 7,
   "metadata": {
    "collapsed": true
   },
   "outputs": [],
   "source": [
    "model = utils.load_model('model-big-50')"
   ]
  },
  {
   "cell_type": "markdown",
   "metadata": {},
   "source": [
    "### Train  the model"
   ]
  },
  {
   "cell_type": "code",
   "execution_count": 24,
   "metadata": {
    "collapsed": false,
    "scrolled": true
   },
   "outputs": [
    {
     "name": "stdout",
     "output_type": "stream",
     "text": [
      "Epoch 1/50\n",
      "50000/50000 [==============================] - 35s - loss: 1.8570 - acc: 0.2962    \n",
      "Epoch 2/50\n",
      "50000/50000 [==============================] - 35s - loss: 1.5327 - acc: 0.4452    \n",
      "Epoch 3/50\n",
      "50000/50000 [==============================] - 35s - loss: 1.4120 - acc: 0.4961    \n",
      "Epoch 4/50\n",
      "50000/50000 [==============================] - 35s - loss: 1.3381 - acc: 0.5280    \n",
      "Epoch 5/50\n",
      "50000/50000 [==============================] - 35s - loss: 1.2864 - acc: 0.5490    \n",
      "Epoch 6/50\n",
      "50000/50000 [==============================] - 36s - loss: 1.2430 - acc: 0.5667    \n",
      "Epoch 7/50\n",
      "50000/50000 [==============================] - 36s - loss: 1.2169 - acc: 0.5775    \n",
      "Epoch 8/50\n",
      "50000/50000 [==============================] - 36s - loss: 1.1852 - acc: 0.5854    \n",
      "Epoch 9/50\n",
      "50000/50000 [==============================] - 35s - loss: 1.1713 - acc: 0.5940    \n",
      "Epoch 10/50\n",
      "50000/50000 [==============================] - 36s - loss: 1.1516 - acc: 0.6028    \n",
      "Epoch 11/50\n",
      "50000/50000 [==============================] - 36s - loss: 1.1386 - acc: 0.6091    \n",
      "Epoch 12/50\n",
      "50000/50000 [==============================] - 36s - loss: 1.1266 - acc: 0.6110    \n",
      "Epoch 13/50\n",
      "50000/50000 [==============================] - 35s - loss: 1.1219 - acc: 0.6132    \n",
      "Epoch 14/50\n",
      "50000/50000 [==============================] - 36s - loss: 1.1101 - acc: 0.6191    \n",
      "Epoch 15/50\n",
      "50000/50000 [==============================] - 35s - loss: 1.1107 - acc: 0.6176    \n",
      "Epoch 16/50\n",
      "50000/50000 [==============================] - 35s - loss: 1.0972 - acc: 0.6235    \n",
      "Epoch 17/50\n",
      "50000/50000 [==============================] - 35s - loss: 1.0927 - acc: 0.6277    \n",
      "Epoch 18/50\n",
      "50000/50000 [==============================] - 36s - loss: 1.0950 - acc: 0.6255    \n",
      "Epoch 19/50\n",
      "50000/50000 [==============================] - 36s - loss: 1.0816 - acc: 0.6277    \n",
      "Epoch 20/50\n",
      "50000/50000 [==============================] - 35s - loss: 1.0830 - acc: 0.6304    \n",
      "Epoch 21/50\n",
      "50000/50000 [==============================] - 36s - loss: 1.0806 - acc: 0.6331    \n",
      "Epoch 22/50\n",
      "50000/50000 [==============================] - 36s - loss: 1.0688 - acc: 0.6360    \n",
      "Epoch 23/50\n",
      "50000/50000 [==============================] - 36s - loss: 1.0662 - acc: 0.6381    \n",
      "Epoch 24/50\n",
      "50000/50000 [==============================] - 35s - loss: 1.0599 - acc: 0.6399    \n",
      "Epoch 25/50\n",
      "50000/50000 [==============================] - 35s - loss: 1.0644 - acc: 0.6388    \n",
      "Epoch 26/50\n",
      "50000/50000 [==============================] - 37s - loss: 1.0646 - acc: 0.6421    \n",
      "Epoch 27/50\n",
      "50000/50000 [==============================] - 37s - loss: 1.0578 - acc: 0.6431    \n",
      "Epoch 28/50\n",
      "50000/50000 [==============================] - 37s - loss: 1.0516 - acc: 0.6447    \n",
      "Epoch 29/50\n",
      "50000/50000 [==============================] - 37s - loss: 1.0444 - acc: 0.6463    \n",
      "Epoch 30/50\n",
      "50000/50000 [==============================] - 37s - loss: 1.0402 - acc: 0.6477    \n",
      "Epoch 31/50\n",
      "50000/50000 [==============================] - 37s - loss: 1.0454 - acc: 0.6436    \n",
      "Epoch 32/50\n",
      "50000/50000 [==============================] - 37s - loss: 1.0494 - acc: 0.6469    \n",
      "Epoch 33/50\n",
      "50000/50000 [==============================] - 37s - loss: 1.0419 - acc: 0.6494    \n",
      "Epoch 34/50\n",
      "50000/50000 [==============================] - 37s - loss: 1.0412 - acc: 0.6482    \n",
      "Epoch 35/50\n",
      "50000/50000 [==============================] - 37s - loss: 1.0495 - acc: 0.6491    \n",
      "Epoch 36/50\n",
      "50000/50000 [==============================] - 37s - loss: 1.0369 - acc: 0.6508    \n",
      "Epoch 37/50\n",
      "50000/50000 [==============================] - 37s - loss: 1.0434 - acc: 0.6472    \n",
      "Epoch 38/50\n",
      "50000/50000 [==============================] - 37s - loss: 1.0330 - acc: 0.6543    \n",
      "Epoch 39/50\n",
      "50000/50000 [==============================] - 37s - loss: 1.0386 - acc: 0.6509    \n",
      "Epoch 40/50\n",
      "50000/50000 [==============================] - 37s - loss: 1.0350 - acc: 0.6527    \n",
      "Epoch 41/50\n",
      "50000/50000 [==============================] - 37s - loss: 1.0299 - acc: 0.6566    \n",
      "Epoch 42/50\n",
      "50000/50000 [==============================] - 37s - loss: 1.0443 - acc: 0.6497    \n",
      "Epoch 43/50\n",
      "50000/50000 [==============================] - 37s - loss: 1.0403 - acc: 0.6501    \n",
      "Epoch 44/50\n",
      "50000/50000 [==============================] - 37s - loss: 1.0393 - acc: 0.6523    \n",
      "Epoch 45/50\n",
      "50000/50000 [==============================] - 37s - loss: 1.0321 - acc: 0.6543    \n",
      "Epoch 46/50\n",
      "50000/50000 [==============================] - 37s - loss: 1.0294 - acc: 0.6560    \n",
      "Epoch 47/50\n",
      "50000/50000 [==============================] - 37s - loss: 1.0234 - acc: 0.6534    \n",
      "Epoch 48/50\n",
      "50000/50000 [==============================] - 37s - loss: 1.0381 - acc: 0.6523    \n",
      "Epoch 49/50\n",
      "50000/50000 [==============================] - 37s - loss: 1.0232 - acc: 0.6580    \n",
      "Epoch 50/50\n",
      "50000/50000 [==============================] - 37s - loss: 1.0206 - acc: 0.6590    \n"
     ]
    },
    {
     "data": {
      "text/plain": [
       "<keras.callbacks.History at 0x7f43e31eed50>"
      ]
     },
     "execution_count": 24,
     "metadata": {},
     "output_type": "execute_result"
    }
   ],
   "source": [
    "model.fit(X_train, Y_train, nb_epoch=50, batch_size=32, verbose=1, show_accuracy=True, callbacks=[remote])"
   ]
  },
  {
   "cell_type": "markdown",
   "metadata": {},
   "source": [
    "### Test the model"
   ]
  },
  {
   "cell_type": "code",
   "execution_count": 8,
   "metadata": {
    "collapsed": false
   },
   "outputs": [
    {
     "name": "stdout",
     "output_type": "stream",
     "text": [
      "10000/10000 [==============================] - 2s     \n",
      "Loss: 0.756164782715\n",
      "Accuracy: 0.7486\n"
     ]
    }
   ],
   "source": [
    "loss, accuracy = model.evaluate(X_test, Y_test, show_accuracy=True)\n",
    "print \"Loss:\", loss\n",
    "print \"Accuracy:\", accuracy"
   ]
  },
  {
   "cell_type": "markdown",
   "metadata": {},
   "source": [
    "### Save the model"
   ]
  },
  {
   "cell_type": "code",
   "execution_count": 26,
   "metadata": {
    "collapsed": false
   },
   "outputs": [
    {
     "data": {
      "text/plain": [
       "True"
      ]
     },
     "execution_count": 26,
     "metadata": {},
     "output_type": "execute_result"
    }
   ],
   "source": [
    "utils.save_model(model, 'model-3x3-3-50')"
   ]
  }
 ],
 "metadata": {
  "kernelspec": {
   "display_name": "Python 2",
   "language": "python",
   "name": "python2"
  },
  "language_info": {
   "codemirror_mode": {
    "name": "ipython",
    "version": 2
   },
   "file_extension": ".py",
   "mimetype": "text/x-python",
   "name": "python",
   "nbconvert_exporter": "python",
   "pygments_lexer": "ipython2",
   "version": "2.7.6"
  }
 },
 "nbformat": 4,
 "nbformat_minor": 0
}
