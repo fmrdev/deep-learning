{
 "cells": [
  {
   "cell_type": "markdown",
   "metadata": {},
   "source": [
    "# Benchmark Code for Convolutional Neural Networks  \n",
    "Accuracy and running time of Convolutional Neural Networks with Max-Pooling layers will be benchmarked here.  "
   ]
  },
  {
   "cell_type": "markdown",
   "metadata": {},
   "source": [
    "## The Data  \n",
    "CIFAR-10 dataset is used and is downloaded using the Keras library.  "
   ]
  },
  {
   "cell_type": "code",
   "execution_count": 1,
   "metadata": {
    "collapsed": false
   },
   "outputs": [],
   "source": [
    "from keras.datasets import cifar10\n",
    "\n",
    "(X_train, y_train), (X_test, y_test) = cifar10.load_data()"
   ]
  },
  {
   "cell_type": "code",
   "execution_count": 2,
   "metadata": {
    "collapsed": true
   },
   "outputs": [],
   "source": [
    "from keras.utils import np_utils\n",
    "Y_train = np_utils.to_categorical(y_train, 10)\n",
    "Y_test = np_utils.to_categorical(y_test, 10)"
   ]
  },
  {
   "cell_type": "code",
   "execution_count": 3,
   "metadata": {
    "collapsed": false
   },
   "outputs": [
    {
     "name": "stdout",
     "output_type": "stream",
     "text": [
      "(50000, 3, 32, 32)\n",
      "(10000, 3, 32, 32)\n",
      "(50000, 1)\n",
      "(10000, 1)\n",
      "(50000, 10)\n",
      "(10000, 10)\n"
     ]
    }
   ],
   "source": [
    "print X_train.shape\n",
    "print X_test.shape\n",
    "print y_train.shape\n",
    "print y_test.shape\n",
    "print Y_train.shape\n",
    "print Y_test.shape"
   ]
  },
  {
   "cell_type": "code",
   "execution_count": 4,
   "metadata": {
    "collapsed": true
   },
   "outputs": [],
   "source": [
    "X_train = X_train.astype('float32')\n",
    "X_test = X_test.astype('float32')\n",
    "X_train /= 255\n",
    "X_test /= 255"
   ]
  },
  {
   "cell_type": "markdown",
   "metadata": {},
   "source": [
    "## The Model  \n",
    "We use a 'typical' CNN with Max-Pooling layers to predict classes in CIFAR-10 dataset.  "
   ]
  },
  {
   "cell_type": "code",
   "execution_count": 11,
   "metadata": {
    "collapsed": false
   },
   "outputs": [],
   "source": [
    "from keras.models import Sequential\n",
    "from keras.layers.core import Dense, Flatten, Dropout\n",
    "from keras.layers.convolutional import Convolution2D, MaxPooling2D\n",
    "from keras.optimizers import SGD"
   ]
  },
  {
   "cell_type": "markdown",
   "metadata": {},
   "source": [
    "Optionally, install [Hualos](https://github.com/fchollet/hualos) and use it to visualize the loss function live.  "
   ]
  },
  {
   "cell_type": "code",
   "execution_count": 6,
   "metadata": {
    "collapsed": true
   },
   "outputs": [],
   "source": [
    "from keras import callbacks\n",
    "remote = callbacks.RemoteMonitor(root='http://localhost:9000')"
   ]
  },
  {
   "cell_type": "markdown",
   "metadata": {},
   "source": [
    "### Define the model"
   ]
  },
  {
   "cell_type": "code",
   "execution_count": 12,
   "metadata": {
    "collapsed": true
   },
   "outputs": [],
   "source": [
    "model = Sequential()\n",
    "model.add(Convolution2D(32, 3, 3, activation='relu', input_shape=(3,32,32)))  # Layer 1\n",
    "model.add(Convolution2D(32, 3, 3, activation='relu'))  # Layer 2\n",
    "model.add(MaxPooling2D())  # Layer 3\n",
    "model.add(Dropout(0.25))  # Layer 4\n",
    "\n",
    "model.add(Convolution2D(64, 3, 3, activation='relu'))  # Layer 5\n",
    "model.add(Convolution2D(64, 3, 3, activation='relu'))  # Layer 6\n",
    "model.add(MaxPooling2D())  # Layer 7\n",
    "model.add(Dropout(0.25))  # Layer 8\n",
    "\n",
    "model.add(Flatten())  # Layer 9\n",
    "\n",
    "model.add(Dense(512, activation='relu'))  # Layer 10\n",
    "model.add(Dropout(0.5))  # Layer 11\n",
    "model.add(Dense(10, activation='softmax'))\n",
    "\n",
    "sgd = SGD(lr=0.01, decay=1e-6, momentum=0.9, nesterov=True)\n",
    "model.compile(loss='categorical_crossentropy', optimizer=sgd)"
   ]
  },
  {
   "cell_type": "markdown",
   "metadata": {},
   "source": [
    "### Train  the model\n",
    "Run Time: `model.fit` takes 20 seconds per epoch on NVidia GeForce GTX 770 GPU on an computer with an Intel i7 processor."
   ]
  },
  {
   "cell_type": "code",
   "execution_count": 13,
   "metadata": {
    "collapsed": false,
    "scrolled": true
   },
   "outputs": [
    {
     "name": "stdout",
     "output_type": "stream",
     "text": [
      "Epoch 1/50\n",
      "50000/50000 [==============================] - 46s - loss: 1.6643 - acc: 0.3879    \n",
      "Warning: could not reach RemoteMonitor root server at http://localhost:9000\n",
      "Epoch 2/50\n",
      "50000/50000 [==============================] - 42s - loss: 1.3025 - acc: 0.5314    \n",
      "Warning: could not reach RemoteMonitor root server at http://localhost:9000\n",
      "Epoch 3/50\n",
      "50000/50000 [==============================] - 43s - loss: 1.1484 - acc: 0.5918    \n",
      "Warning: could not reach RemoteMonitor root server at http://localhost:9000\n",
      "Epoch 4/50\n",
      "50000/50000 [==============================] - 42s - loss: 1.0465 - acc: 0.6271    \n",
      "Warning: could not reach RemoteMonitor root server at http://localhost:9000\n",
      "Epoch 5/50\n",
      "50000/50000 [==============================] - 42s - loss: 0.9806 - acc: 0.6534    \n",
      "Warning: could not reach RemoteMonitor root server at http://localhost:9000\n",
      "Epoch 6/50\n",
      "50000/50000 [==============================] - 42s - loss: 0.9390 - acc: 0.6693    \n",
      "Warning: could not reach RemoteMonitor root server at http://localhost:9000\n",
      "Epoch 7/50\n",
      "50000/50000 [==============================] - 45s - loss: 0.9103 - acc: 0.6804    \n",
      "Warning: could not reach RemoteMonitor root server at http://localhost:9000\n",
      "Epoch 8/50\n",
      "50000/50000 [==============================] - 46s - loss: 0.8732 - acc: 0.6937    \n",
      "Warning: could not reach RemoteMonitor root server at http://localhost:9000\n",
      "Epoch 9/50\n",
      "50000/50000 [==============================] - 46s - loss: 0.8440 - acc: 0.7056    \n",
      "Warning: could not reach RemoteMonitor root server at http://localhost:9000\n",
      "Epoch 10/50\n",
      "50000/50000 [==============================] - 46s - loss: 0.8280 - acc: 0.7113    \n",
      "Warning: could not reach RemoteMonitor root server at http://localhost:9000\n",
      "Epoch 11/50\n",
      "50000/50000 [==============================] - 45s - loss: 0.8158 - acc: 0.7162    \n",
      "Warning: could not reach RemoteMonitor root server at http://localhost:9000\n",
      "Epoch 12/50\n",
      "50000/50000 [==============================] - 47s - loss: 0.7969 - acc: 0.7204    \n",
      "Warning: could not reach RemoteMonitor root server at http://localhost:9000\n",
      "Epoch 13/50\n",
      "50000/50000 [==============================] - 47s - loss: 0.7797 - acc: 0.7263    \n",
      "Warning: could not reach RemoteMonitor root server at http://localhost:9000\n",
      "Epoch 14/50\n",
      "50000/50000 [==============================] - 47s - loss: 0.7648 - acc: 0.7336    \n",
      "Warning: could not reach RemoteMonitor root server at http://localhost:9000\n",
      "Epoch 15/50\n",
      "50000/50000 [==============================] - 47s - loss: 0.7668 - acc: 0.7313    \n",
      "Warning: could not reach RemoteMonitor root server at http://localhost:9000\n",
      "Epoch 16/50\n",
      "50000/50000 [==============================] - 47s - loss: 0.7486 - acc: 0.7387    \n",
      "Warning: could not reach RemoteMonitor root server at http://localhost:9000\n",
      "Epoch 17/50\n",
      "50000/50000 [==============================] - 47s - loss: 0.7505 - acc: 0.7385    \n",
      "Epoch 18/50\n",
      "50000/50000 [==============================] - 46s - loss: 0.7408 - acc: 0.7417    \n",
      "Epoch 19/50\n",
      "50000/50000 [==============================] - 45s - loss: 0.7460 - acc: 0.7421    \n",
      "Epoch 20/50\n",
      "50000/50000 [==============================] - 45s - loss: 0.7190 - acc: 0.7503    \n",
      "Epoch 21/50\n",
      "50000/50000 [==============================] - 45s - loss: 0.7215 - acc: 0.7494    \n",
      "Epoch 22/50\n",
      "50000/50000 [==============================] - 45s - loss: 0.7219 - acc: 0.7505    \n",
      "Epoch 23/50\n",
      "50000/50000 [==============================] - 46s - loss: 0.7118 - acc: 0.7537    \n",
      "Epoch 24/50\n",
      "50000/50000 [==============================] - 46s - loss: 0.7174 - acc: 0.7531    \n",
      "Epoch 25/50\n",
      "50000/50000 [==============================] - 45s - loss: 0.7160 - acc: 0.7536    \n",
      "Epoch 26/50\n",
      "50000/50000 [==============================] - 45s - loss: 0.7120 - acc: 0.7532    \n",
      "Epoch 27/50\n",
      "50000/50000 [==============================] - 45s - loss: 0.7034 - acc: 0.7573    \n",
      "Epoch 28/50\n",
      "50000/50000 [==============================] - 45s - loss: 0.7083 - acc: 0.7551    \n",
      "Epoch 29/50\n",
      "50000/50000 [==============================] - 45s - loss: 0.6920 - acc: 0.7605    \n",
      "Epoch 30/50\n",
      "50000/50000 [==============================] - 45s - loss: 0.6829 - acc: 0.7637    \n",
      "Epoch 31/50\n",
      "50000/50000 [==============================] - 45s - loss: 0.6897 - acc: 0.7630    \n",
      "Epoch 32/50\n",
      "50000/50000 [==============================] - 45s - loss: 0.6846 - acc: 0.7653    \n",
      "Epoch 33/50\n",
      "50000/50000 [==============================] - 45s - loss: 0.6899 - acc: 0.7643    \n",
      "Epoch 34/50\n",
      "50000/50000 [==============================] - 45s - loss: 0.6905 - acc: 0.7638    \n",
      "Epoch 35/50\n",
      "50000/50000 [==============================] - 45s - loss: 0.6847 - acc: 0.7653    \n",
      "Epoch 36/50\n",
      "50000/50000 [==============================] - 45s - loss: 0.6851 - acc: 0.7642    \n",
      "Epoch 37/50\n",
      "50000/50000 [==============================] - 45s - loss: 0.6816 - acc: 0.7654    \n",
      "Epoch 38/50\n",
      "50000/50000 [==============================] - 45s - loss: 0.6831 - acc: 0.7686    \n",
      "Epoch 39/50\n",
      "50000/50000 [==============================] - 45s - loss: 0.6835 - acc: 0.7664    \n",
      "Epoch 40/50\n",
      "50000/50000 [==============================] - 45s - loss: 0.6736 - acc: 0.7707    \n",
      "Epoch 41/50\n",
      "50000/50000 [==============================] - 45s - loss: 0.6753 - acc: 0.7677    \n",
      "Epoch 42/50\n",
      "50000/50000 [==============================] - 45s - loss: 0.6794 - acc: 0.7689    \n",
      "Epoch 43/50\n",
      "50000/50000 [==============================] - 46s - loss: 0.6863 - acc: 0.7664    \n",
      "Epoch 44/50\n",
      "50000/50000 [==============================] - 45s - loss: 0.6676 - acc: 0.7740    \n",
      "Epoch 45/50\n",
      "50000/50000 [==============================] - 45s - loss: 0.6694 - acc: 0.7721    \n",
      "Epoch 46/50\n",
      "50000/50000 [==============================] - 47s - loss: 0.6813 - acc: 0.7703    \n",
      "Epoch 47/50\n",
      "50000/50000 [==============================] - 47s - loss: 0.6694 - acc: 0.7709    \n",
      "Epoch 48/50\n",
      "50000/50000 [==============================] - 47s - loss: 0.6673 - acc: 0.7730    \n",
      "Epoch 49/50\n",
      "50000/50000 [==============================] - 47s - loss: 0.6655 - acc: 0.7751    \n",
      "Epoch 50/50\n",
      "50000/50000 [==============================] - 47s - loss: 0.6704 - acc: 0.7726    \n"
     ]
    },
    {
     "data": {
      "text/plain": [
       "<keras.callbacks.History at 0x7f09ec552c90>"
      ]
     },
     "execution_count": 13,
     "metadata": {},
     "output_type": "execute_result"
    }
   ],
   "source": [
    "model.fit(X_train, Y_train, nb_epoch=50, batch_size=32, verbose=1, show_accuracy=True, callbacks=[remote])"
   ]
  },
  {
   "cell_type": "markdown",
   "metadata": {},
   "source": [
    "## Test the model"
   ]
  },
  {
   "cell_type": "code",
   "execution_count": 14,
   "metadata": {
    "collapsed": false
   },
   "outputs": [
    {
     "name": "stdout",
     "output_type": "stream",
     "text": [
      "10000/10000 [==============================] - 2s     \n",
      "Loss: 0.756164782715\n",
      "Accuracy: 0.7486\n"
     ]
    }
   ],
   "source": [
    "loss, accuracy = model.evaluate(X_test, Y_test, show_accuracy=True)\n",
    "print \"Loss:\", loss\n",
    "print \"Accuracy:\", accuracy"
   ]
  },
  {
   "cell_type": "markdown",
   "metadata": {},
   "source": [
    "### Save the model  [optional]\n",
    "Reference: http://keras.io/faq/#how-can-i-save-a-keras-model"
   ]
  },
  {
   "cell_type": "code",
   "execution_count": 15,
   "metadata": {
    "collapsed": false
   },
   "outputs": [
    {
     "data": {
      "text/plain": [
       "<module 'utils' from 'utils.pyc'>"
      ]
     },
     "execution_count": 15,
     "metadata": {},
     "output_type": "execute_result"
    }
   ],
   "source": [
    "import utils\n",
    "reload(utils)"
   ]
  },
  {
   "cell_type": "code",
   "execution_count": 17,
   "metadata": {
    "collapsed": false
   },
   "outputs": [
    {
     "data": {
      "text/plain": [
       "True"
      ]
     },
     "execution_count": 17,
     "metadata": {},
     "output_type": "execute_result"
    }
   ],
   "source": [
    "utils.save_model(model, 'model-big-50')"
   ]
  }
 ],
 "metadata": {
  "kernelspec": {
   "display_name": "Python 2",
   "language": "python",
   "name": "python2"
  },
  "language_info": {
   "codemirror_mode": {
    "name": "ipython",
    "version": 2
   },
   "file_extension": ".py",
   "mimetype": "text/x-python",
   "name": "python",
   "nbconvert_exporter": "python",
   "pygments_lexer": "ipython2",
   "version": "2.7.6"
  }
 },
 "nbformat": 4,
 "nbformat_minor": 0
}
