{
 "cells": [
  {
   "cell_type": "markdown",
   "metadata": {},
   "source": [
    "# Train Code for Convolutional Neural Networks  \n",
    "CNNs are trained using this notebook"
   ]
  },
  {
   "cell_type": "markdown",
   "metadata": {},
   "source": [
    "## The Data"
   ]
  },
  {
   "cell_type": "code",
   "execution_count": 1,
   "metadata": {
    "collapsed": false
   },
   "outputs": [
    {
     "name": "stderr",
     "output_type": "stream",
     "text": [
      "Using TensorFlow backend.\n"
     ]
    },
    {
     "data": {
      "text/plain": [
       "<module 'utils' from 'utils.pyc'>"
      ]
     },
     "execution_count": 1,
     "metadata": {},
     "output_type": "execute_result"
    }
   ],
   "source": [
    "import utils\n",
    "reload(utils)"
   ]
  },
  {
   "cell_type": "code",
   "execution_count": 2,
   "metadata": {
    "collapsed": false
   },
   "outputs": [],
   "source": [
    "(X_train, Y_train), (X_test, Y_test) = utils.load_data()"
   ]
  },
  {
   "cell_type": "code",
   "execution_count": 3,
   "metadata": {
    "collapsed": false
   },
   "outputs": [
    {
     "name": "stdout",
     "output_type": "stream",
     "text": [
      "(50000, 3, 32, 32)\n",
      "(10000, 3, 32, 32)\n",
      "(50000, 10)\n",
      "(10000, 10)\n"
     ]
    }
   ],
   "source": [
    "print X_train.shape\n",
    "print X_test.shape\n",
    "print Y_train.shape\n",
    "print Y_test.shape"
   ]
  },
  {
   "cell_type": "markdown",
   "metadata": {},
   "source": [
    "## The Model  \n",
    "We use a 'typical' CNN with Max-Pooling layers to predict classes in CIFAR-10 dataset.  "
   ]
  },
  {
   "cell_type": "code",
   "execution_count": 4,
   "metadata": {
    "collapsed": false
   },
   "outputs": [],
   "source": [
    "from keras.models import Sequential\n",
    "from keras.layers.core import Dense, Flatten, Dropout\n",
    "from keras.layers.convolutional import Convolution2D, MaxPooling2D, AveragePooling2D\n",
    "from keras.optimizers import SGD\n",
    "from keras.preprocessing.image import ImageDataGenerator"
   ]
  },
  {
   "cell_type": "markdown",
   "metadata": {},
   "source": [
    "Optionally, install [Hualos](https://github.com/fchollet/hualos) and use it to visualize the loss function live.  "
   ]
  },
  {
   "cell_type": "code",
   "execution_count": 5,
   "metadata": {
    "collapsed": true
   },
   "outputs": [],
   "source": [
    "from keras import callbacks\n",
    "remote = callbacks.RemoteMonitor(root='http://localhost:9000')"
   ]
  },
  {
   "cell_type": "markdown",
   "metadata": {},
   "source": [
    "### Define the model"
   ]
  },
  {
   "cell_type": "code",
   "execution_count": 64,
   "metadata": {
    "collapsed": false
   },
   "outputs": [],
   "source": [
    "pool_size = (2, 2)\n",
    "strides = (2, 2)\n",
    "\n",
    "model = Sequential()\n",
    "model.add(Convolution2D(32, 3, 3, activation='relu', input_shape=(3,32,32)))  # Layer 1\n",
    "model.add(Convolution2D(32, 3, 3, activation='relu'))  # Layer 2\n",
    "model.add(MaxPooling2D(pool_size=(2,2), strides=(2,2)))  # Layer 3\n",
    "model.add(Dropout(0.25))  # Layer 4\n",
    "\n",
    "model.add(Convolution2D(64, 3, 3, activation='relu'))  # Layer 5\n",
    "model.add(Convolution2D(64, 3, 3, activation='relu'))  # Layer 6\n",
    "model.add(MaxPooling2D(pool_size=pool_size, strides=strides))  # Layer 7\n",
    "model.add(Dropout(0.25))  # Layer 8\n",
    "\n",
    "model.add(Flatten())  # Layer 9\n",
    "\n",
    "model.add(Dense(512, activation='relu'))  # Layer 10\n",
    "model.add(Dropout(0.5))  # Layer 11\n",
    "model.add(Dense(10, activation='softmax'))\n",
    "\n",
    "sgd = SGD(lr=0.01, decay=1e-6, momentum=0.9, nesterov=True)\n",
    "model.compile(loss='categorical_crossentropy', optimizer=sgd)"
   ]
  },
  {
   "cell_type": "markdown",
   "metadata": {},
   "source": [
    "Or load saved model"
   ]
  },
  {
   "cell_type": "code",
   "execution_count": 6,
   "metadata": {
    "collapsed": true
   },
   "outputs": [],
   "source": [
    "model = utils.load_model('model-1')"
   ]
  },
  {
   "cell_type": "markdown",
   "metadata": {},
   "source": [
    "### Train  the model"
   ]
  },
  {
   "cell_type": "code",
   "execution_count": 65,
   "metadata": {
    "collapsed": false
   },
   "outputs": [],
   "source": [
    "data_augmentation = False\n",
    "nb_epoch = 50\n",
    "rounds = 19\n",
    "batch_size = 128\n",
    "samples_per_epoch = X_train.shape[0] * rounds"
   ]
  },
  {
   "cell_type": "code",
   "execution_count": 66,
   "metadata": {
    "collapsed": false
   },
   "outputs": [
    {
     "name": "stdout",
     "output_type": "stream",
     "text": [
      "Not using data augmentation.\n",
      "Epoch 1/50\n",
      "50000/50000 [==============================] - 29s - loss: 1.9276 - acc: 0.2883    \n",
      "Epoch 2/50\n",
      "50000/50000 [==============================] - 28s - loss: 1.5404 - acc: 0.4348    \n",
      "Epoch 3/50\n",
      "50000/50000 [==============================] - 28s - loss: 1.4017 - acc: 0.4914    \n",
      "Epoch 4/50\n",
      "50000/50000 [==============================] - 29s - loss: 1.3072 - acc: 0.5295    \n",
      "Epoch 5/50\n",
      "50000/50000 [==============================] - 29s - loss: 1.2235 - acc: 0.5626    \n",
      "Epoch 6/50\n",
      "50000/50000 [==============================] - 28s - loss: 1.1600 - acc: 0.5864    \n",
      "Epoch 7/50\n",
      "50000/50000 [==============================] - 28s - loss: 1.1093 - acc: 0.6074    \n",
      "Epoch 8/50\n",
      "50000/50000 [==============================] - 29s - loss: 1.0567 - acc: 0.6239    \n",
      "Epoch 9/50\n",
      "50000/50000 [==============================] - 29s - loss: 1.0114 - acc: 0.6424    \n",
      "Epoch 10/50\n",
      "50000/50000 [==============================] - 29s - loss: 0.9744 - acc: 0.6568    \n",
      "Epoch 11/50\n",
      "50000/50000 [==============================] - 29s - loss: 0.9336 - acc: 0.6683    \n",
      "Epoch 12/50\n",
      "50000/50000 [==============================] - 29s - loss: 0.9039 - acc: 0.6793    \n",
      "Epoch 13/50\n",
      "50000/50000 [==============================] - 29s - loss: 0.8667 - acc: 0.6958    \n",
      "Epoch 14/50\n",
      "50000/50000 [==============================] - 29s - loss: 0.8427 - acc: 0.7016    \n",
      "Epoch 15/50\n",
      "50000/50000 [==============================] - 28s - loss: 0.8119 - acc: 0.7142    \n",
      "Epoch 16/50\n",
      "50000/50000 [==============================] - 28s - loss: 0.7854 - acc: 0.7233    \n",
      "Epoch 17/50\n",
      "50000/50000 [==============================] - 28s - loss: 0.7614 - acc: 0.7312    \n",
      "Epoch 18/50\n",
      "50000/50000 [==============================] - 29s - loss: 0.7364 - acc: 0.7390    \n",
      "Epoch 19/50\n",
      "50000/50000 [==============================] - 28s - loss: 0.7158 - acc: 0.7477    \n",
      "Epoch 20/50\n",
      "50000/50000 [==============================] - 28s - loss: 0.7012 - acc: 0.7504    \n",
      "Epoch 21/50\n",
      "50000/50000 [==============================] - 28s - loss: 0.6825 - acc: 0.7585    \n",
      "Epoch 22/50\n",
      "50000/50000 [==============================] - 28s - loss: 0.6658 - acc: 0.7642    \n",
      "Epoch 23/50\n",
      "50000/50000 [==============================] - 28s - loss: 0.6493 - acc: 0.7692    \n",
      "Epoch 24/50\n",
      "50000/50000 [==============================] - 28s - loss: 0.6350 - acc: 0.7741    \n",
      "Epoch 25/50\n",
      "50000/50000 [==============================] - 28s - loss: 0.6153 - acc: 0.7819    \n",
      "Epoch 26/50\n",
      "50000/50000 [==============================] - 28s - loss: 0.6041 - acc: 0.7858    \n",
      "Epoch 27/50\n",
      "50000/50000 [==============================] - 28s - loss: 0.5861 - acc: 0.7927    \n",
      "Epoch 28/50\n",
      "50000/50000 [==============================] - 28s - loss: 0.5724 - acc: 0.7952    \n",
      "Epoch 29/50\n",
      "50000/50000 [==============================] - 28s - loss: 0.5635 - acc: 0.7990    \n",
      "Epoch 30/50\n",
      "50000/50000 [==============================] - 28s - loss: 0.5440 - acc: 0.8056    \n",
      "Epoch 31/50\n",
      "50000/50000 [==============================] - 28s - loss: 0.5396 - acc: 0.8068    \n",
      "Epoch 32/50\n",
      "50000/50000 [==============================] - 28s - loss: 0.5265 - acc: 0.8130    \n",
      "Epoch 33/50\n",
      "50000/50000 [==============================] - 28s - loss: 0.5171 - acc: 0.8173    \n",
      "Epoch 34/50\n",
      "50000/50000 [==============================] - 28s - loss: 0.5037 - acc: 0.8212    \n",
      "Epoch 35/50\n",
      "50000/50000 [==============================] - 28s - loss: 0.4964 - acc: 0.8225    \n",
      "Epoch 36/50\n",
      "50000/50000 [==============================] - 28s - loss: 0.4823 - acc: 0.8272    \n",
      "Epoch 37/50\n",
      "50000/50000 [==============================] - 28s - loss: 0.4747 - acc: 0.8317    \n",
      "Epoch 38/50\n",
      "50000/50000 [==============================] - 28s - loss: 0.4667 - acc: 0.8319    \n",
      "Epoch 39/50\n",
      "50000/50000 [==============================] - 28s - loss: 0.4565 - acc: 0.8367    \n",
      "Epoch 40/50\n",
      "50000/50000 [==============================] - 28s - loss: 0.4473 - acc: 0.8385    \n",
      "Epoch 41/50\n",
      "50000/50000 [==============================] - 28s - loss: 0.4409 - acc: 0.8431    \n",
      "Epoch 42/50\n",
      "50000/50000 [==============================] - 28s - loss: 0.4349 - acc: 0.8429    \n",
      "Epoch 43/50\n",
      "50000/50000 [==============================] - 28s - loss: 0.4240 - acc: 0.8474    \n",
      "Epoch 44/50\n",
      "50000/50000 [==============================] - 28s - loss: 0.4144 - acc: 0.8523    \n",
      "Epoch 45/50\n",
      "50000/50000 [==============================] - 28s - loss: 0.4041 - acc: 0.8545    \n",
      "Epoch 46/50\n",
      "50000/50000 [==============================] - 28s - loss: 0.3991 - acc: 0.8562    \n",
      "Epoch 47/50\n",
      "50000/50000 [==============================] - 28s - loss: 0.3926 - acc: 0.8578    \n",
      "Epoch 48/50\n",
      "50000/50000 [==============================] - 28s - loss: 0.3870 - acc: 0.8606    \n",
      "Epoch 49/50\n",
      "50000/50000 [==============================] - 28s - loss: 0.3892 - acc: 0.8602    \n",
      "Epoch 50/50\n",
      "50000/50000 [==============================] - 28s - loss: 0.3727 - acc: 0.8661    \n"
     ]
    }
   ],
   "source": [
    "if not data_augmentation:\n",
    "    print('Not using data augmentation.')\n",
    "    model.fit(X_train, Y_train, nb_epoch=nb_epoch, batch_size=batch_size, verbose=1, \n",
    "              show_accuracy=True)\n",
    "else:\n",
    "    print('Using real-time data augmentation.')\n",
    "\n",
    "    # this will do preprocessing and realtime data augmentation\n",
    "    datagen = ImageDataGenerator(\n",
    "        featurewise_center=False,  # set input mean to 0 over the dataset\n",
    "        samplewise_center=False,  # set each sample mean to 0\n",
    "        featurewise_std_normalization=False,  # divide inputs by std of the dataset\n",
    "        samplewise_std_normalization=False,  # divide each input by its std\n",
    "        zca_whitening=False,  # apply ZCA whitening\n",
    "        rotation_range=180,  # randomly rotate images in the range (degrees, 0 to 180)\n",
    "        width_shift_range=0,  # randomly shift images horizontally (fraction of total width)\n",
    "        height_shift_range=0,  # randomly shift images vertically (fraction of total height)\n",
    "        horizontal_flip=False,  # randomly flip images\n",
    "        vertical_flip=False)  # randomly flip images\n",
    "    \n",
    "    # Only need fit() if we are using featurewise_center, featurewise_std_normalizaiton, or zca_whitening\n",
    "    # datagen.fit(X_train, rounds=rounds)\n",
    "\n",
    "    # fit the model one batch at a time using the original and augmented sets\n",
    "    for e in range(nb_epoch):\n",
    "        print 'Epoch', e\n",
    "        model.fit(X_train, Y_train, nb_epoch=1, batch_size=batch_size, verbose=1, \n",
    "                  show_accuracy=True)\n",
    "        model.fit_generator(datagen.flow(X_train, Y_train, batch_size=batch_size),\n",
    "                            samples_per_epoch=samples_per_epoch,\n",
    "                            nb_epoch=1, show_accuracy=True,\n",
    "                            nb_worker=1)"
   ]
  },
  {
   "cell_type": "code",
   "execution_count": null,
   "metadata": {
    "collapsed": false,
    "scrolled": true
   },
   "outputs": [],
   "source": [
    "model.fit(X_train, Y_train, nb_epoch=nb_epoch, batch_size=batch_size, verbose=1, \n",
    "          show_accuracy=True)"
   ]
  },
  {
   "cell_type": "markdown",
   "metadata": {},
   "source": [
    "### Test the model"
   ]
  },
  {
   "cell_type": "code",
   "execution_count": 7,
   "metadata": {
    "collapsed": false
   },
   "outputs": [
    {
     "name": "stdout",
     "output_type": "stream",
     "text": [
      "10000/10000 [==============================] - 1s     \n",
      "Loss: 0.589300656366\n",
      "Accuracy: 0.8103\n"
     ]
    }
   ],
   "source": [
    "loss, accuracy = model.evaluate(X_test, Y_test, show_accuracy=True)\n",
    "print \"Loss:\", loss\n",
    "print \"Accuracy:\", accuracy"
   ]
  },
  {
   "cell_type": "markdown",
   "metadata": {},
   "source": [
    "### Save the model"
   ]
  },
  {
   "cell_type": "code",
   "execution_count": 68,
   "metadata": {
    "collapsed": false
   },
   "outputs": [
    {
     "data": {
      "text/plain": [
       "True"
      ]
     },
     "execution_count": 68,
     "metadata": {},
     "output_type": "execute_result"
    }
   ],
   "source": [
    "utils.save_model(model, 'model-2')"
   ]
  },
  {
   "cell_type": "code",
   "execution_count": null,
   "metadata": {
    "collapsed": true
   },
   "outputs": [],
   "source": [
    "\n"
   ]
  }
 ],
 "metadata": {
  "kernelspec": {
   "display_name": "Python 2",
   "language": "python",
   "name": "python2"
  },
  "language_info": {
   "codemirror_mode": {
    "name": "ipython",
    "version": 2
   },
   "file_extension": ".py",
   "mimetype": "text/x-python",
   "name": "python",
   "nbconvert_exporter": "python",
   "pygments_lexer": "ipython2",
   "version": "2.7.6"
  }
 },
 "nbformat": 4,
 "nbformat_minor": 0
}
